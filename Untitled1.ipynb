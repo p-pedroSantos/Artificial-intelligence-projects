{
  "nbformat": 4,
  "nbformat_minor": 0,
  "metadata": {
    "colab": {
      "name": "Untitled1.ipynb",
      "provenance": [],
      "authorship_tag": "ABX9TyNBvDbTqqSXTNAhK6SxnOAY",
      "include_colab_link": true
    },
    "kernelspec": {
      "name": "python3",
      "display_name": "Python 3"
    },
    "language_info": {
      "name": "python"
    }
  },
  "cells": [
    {
      "cell_type": "markdown",
      "metadata": {
        "id": "view-in-github",
        "colab_type": "text"
      },
      "source": [
        "<a href=\"https://colab.research.google.com/github/pedrolucas-sa/Artificial-intelligence-projects/blob/main/Untitled1.ipynb\" target=\"_parent\"><img src=\"https://colab.research.google.com/assets/colab-badge.svg\" alt=\"Open In Colab\"/></a>"
      ]
    },
    {
      "cell_type": "code",
      "metadata": {
        "id": "STzbhhjmAO0m"
      },
      "source": [
        "import tensorflow as tf\n",
        "from tensorflow import keras\n",
        "from tensorflow.keras import layers, optimizers, datasets, Sequential\n",
        "from tensorflow.keras.layers import Conv2D, Activation, MaxPool2D, Dropout, Flatten"
      ],
      "execution_count": 4,
      "outputs": []
    },
    {
      "cell_type": "code",
      "metadata": {
        "colab": {
          "base_uri": "https://localhost:8080/"
        },
        "id": "O6Ord72YEVhy",
        "outputId": "9d4a102d-214a-4d2b-cfe9-ac924ea92cb7"
      },
      "source": [
        "(x_train, y_train), (x_test, y_test) = datasets.cifar10.load_data()\n",
        "print(x_train.shape)"
      ],
      "execution_count": 9,
      "outputs": [
        {
          "output_type": "stream",
          "name": "stdout",
          "text": [
            "(50000, 32, 32, 3)\n"
          ]
        }
      ]
    },
    {
      "cell_type": "code",
      "metadata": {
        "colab": {
          "base_uri": "https://localhost:8080/"
        },
        "id": "rFcaeJE0FxIv",
        "outputId": "3bbd1931-edc9-4e3a-ecf3-e3f202b73195"
      },
      "source": [
        "num_classes=10\n",
        "y_train_onehot = keras.utils.to_categorical(y_train, num_classes)\n",
        "y_test_onehot = keras.utils.to_categorical(y_test, num_classes)\n",
        "y_train[0]"
      ],
      "execution_count": 10,
      "outputs": [
        {
          "output_type": "execute_result",
          "data": {
            "text/plain": [
              "array([6], dtype=uint8)"
            ]
          },
          "metadata": {},
          "execution_count": 10
        }
      ]
    },
    {
      "cell_type": "code",
      "metadata": {
        "id": "hMxT8t5hG5sE"
      },
      "source": [
        "category_dict =[0:'airplane', 1:'automobile', 2:'bird', 3:'cat', 4:'deer', 5:'dog', 6:'frog', 7:'horse', 8:'ship', 9:'truck']\n",
        "\n",
        "plt.figure()\n",
        "for i in range(9):\n",
        "  plt."
      ],
      "execution_count": null,
      "outputs": []
    },
    {
      "cell_type": "code",
      "metadata": {
        "id": "N89_Z4KBN2QD"
      },
      "source": [
        "def CNN_classification_model(imput_size=x_train.shape[1:]):\n",
        "  model=Sequential()\n",
        "  model.add(Conv2D(32,(3,3) padding='same' input_shape=input_size))\n",
        "  model.add(Activation('relu'))"
      ],
      "execution_count": null,
      "outputs": []
    },
    {
      "cell_type": "code",
      "metadata": {
        "id": "Wv2h3x7FPmkn"
      },
      "source": [
        "from tensorflow.keras.callbacks import Modecheckpoint\n",
        "model_name=\"final_cifar10.h5\"\n",
        "model_chekpoint = modelcheckpoint(model_name, monitor='loss', verbose=1, save_best_only=true)\n"
      ],
      "execution_count": null,
      "outputs": []
    },
    {
      "cell_type": "code",
      "metadata": {
        "id": "8rNq_JaBRX5N"
      },
      "source": [
        "rainer_weights_path='cifar10.h5'\n",
        "import os\n",
        "if os.path.exists(trained_weights_path):\n",
        "  model.load__weights(trained_weights_path, by_name=true)"
      ],
      "execution_count": null,
      "outputs": []
    },
    {
      "cell_type": "code",
      "metadata": {
        "id": "nXoU40E-SrqP"
      },
      "source": [
        "model.fit(x=x_train, y=y_train, batch_size=32, epochs=10, verbose=1, callbacks=model_chekpoint)"
      ],
      "execution_count": null,
      "outputs": []
    },
    {
      "cell_type": "code",
      "metadata": {
        "id": "fUV2-n21VBud"
      },
      "source": [
        "new_model =CNN_classification_model()\n",
        "new_model.load-weights('final_cifar10.h5')\n",
        "model.evaluate(x_test,y_test,verbose=1)"
      ],
      "execution_count": null,
      "outputs": []
    },
    {
      "cell_type": "code",
      "metadata": {
        "id": "mEm8p2klVi5O"
      },
      "source": [
        "new_model.predict(x-test[0:1])"
      ],
      "execution_count": null,
      "outputs": []
    },
    {
      "cell_type": "code",
      "metadata": {
        "id": "cyla42_LV2Ba"
      },
      "source": [
        "#new_model.predict(x-test[0:1])\n",
        "np.argmax(new_model.predict(x_test[0:1]), axis=-1)"
      ],
      "execution_count": null,
      "outputs": []
    },
    {
      "cell_type": "code",
      "metadata": {
        "id": "yyOYaqgLWIwz"
      },
      "source": [
        "pred_list=[]\n",
        "plt.figurr=e()\n",
        "for i in range(0,4):\n",
        "  plt.subplot(2,2. i+1)\n",
        "  plt.imshow(s_test[i])\n",
        "\n",
        "  pred = new_model.predict(x_test[0:10])\n",
        "  #pred + np.argmax(new_model.predict(x_test[0:10]), axis=-1)\n",
        "  pred_list.append(pred)\n",
        "  plt.title('pred' )\n",
        "\n"
      ],
      "execution_count": null,
      "outputs": []
    }
  ]
}