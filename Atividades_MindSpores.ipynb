{
  "nbformat": 4,
  "nbformat_minor": 0,
  "metadata": {
    "colab": {
      "name": "Atividades MindSpores.ipynb",
      "provenance": [],
      "authorship_tag": "ABX9TyOC+CVVYkPtUPdk65Q8fPzh",
      "include_colab_link": true
    },
    "kernelspec": {
      "name": "python3",
      "display_name": "Python 3"
    },
    "language_info": {
      "name": "python"
    }
  },
  "cells": [
    {
      "cell_type": "markdown",
      "metadata": {
        "id": "view-in-github",
        "colab_type": "text"
      },
      "source": [
        "<a href=\"https://colab.research.google.com/github/pedrolucas-sa/Artificial-intelligence-projects/blob/main/Atividades_MindSpores.ipynb\" target=\"_parent\"><img src=\"https://colab.research.google.com/assets/colab-badge.svg\" alt=\"Open In Colab\"/></a>"
      ]
    },
    {
      "cell_type": "code",
      "metadata": {
        "id": "Ek9LHMOnKe8Z"
      },
      "source": [
        "import os\n",
        "import tensorflow as tf\n",
        "from tensorflow import keras\n",
        "from tensorflow.keras import layers, optimizers, datasets\n",
        "from matplotlib import pyplot as plt\n",
        "import numpy as np"
      ],
      "execution_count": 86,
      "outputs": []
    },
    {
      "cell_type": "code",
      "metadata": {
        "colab": {
          "base_uri": "https://localhost:8080/"
        },
        "id": "rwIYjXOzKxYc",
        "outputId": "35e0db30-f57a-42de-afb5-8aa1d6a04786"
      },
      "source": [
        "(x_train_raw, y_train_raw), (x_test_raw, y_test_raw) = datasets.mnist.load_data()\n",
        "print(y_train_raw[0])\n",
        "print(x_train_raw.shape, y_train_raw.shape)\n",
        "print(x_test_raw.shape, y_test_raw.shape)"
      ],
      "execution_count": 87,
      "outputs": [
        {
          "output_type": "stream",
          "name": "stdout",
          "text": [
            "5\n",
            "(60000, 28, 28) (60000,)\n",
            "(10000, 28, 28) (10000,)\n"
          ]
        }
      ]
    },
    {
      "cell_type": "code",
      "metadata": {
        "colab": {
          "base_uri": "https://localhost:8080/"
        },
        "id": "zdUv5uSDMXfm",
        "outputId": "0aa4c5a7-7122-4638-8e55-5139423b526f"
      },
      "source": [
        "#Convertendo rótulos em variáveis.\n",
        "num_classes = 10\n",
        "y_train = keras.utils.to_categorical(y_train_raw, num_classes)\n",
        "y_test = keras.utils.to_categorical(y_test_raw, num_classes)\n",
        "print(y_train[0])"
      ],
      "execution_count": 88,
      "outputs": [
        {
          "output_type": "stream",
          "name": "stdout",
          "text": [
            "[0. 0. 0. 0. 0. 1. 0. 0. 0. 0.]\n"
          ]
        }
      ]
    },
    {
      "cell_type": "code",
      "metadata": {
        "colab": {
          "base_uri": "https://localhost:8080/",
          "height": 248
        },
        "id": "87fvLXRKNOvo",
        "outputId": "8c04bccf-1516-4319-81db-b10d2850d1f1"
      },
      "source": [
        "plt.figure()\n",
        "for i in range(9):\n",
        "  plt.subplot(3,3,i+1)\n",
        "  plt.imshow(x_train_raw[i])\n",
        "  #plt.ylabel(y[i].numpy())\n",
        "  plt.axis('off')\n",
        "plt.show()"
      ],
      "execution_count": 89,
      "outputs": [
        {
          "output_type": "display_data",
          "data": {
            "image/png": "[encoded data removed]",
            "text/plain": [
              "<Figure size 432x288 with 9 Axes>"
            ]
          },
          "metadata": {
            "needs_background": "light"
          }
        }
      ]
    },
    {
      "cell_type": "code",
      "metadata": {
        "id": "JXjxTtO6Ncvp"
      },
      "source": [
        "##Converta uma imagem de 28 x 28 em um vetor de 784 x 1.\n",
        "x_train = x_train_raw.reshape(60000, 784)\n",
        "x_test = x_test_raw.reshape(10000, 784)"
      ],
      "execution_count": 90,
      "outputs": []
    },
    {
      "cell_type": "code",
      "metadata": {
        "id": "zinU6aA9N20o"
      },
      "source": [
        "#Normalize os valores de pixel da imagem\n",
        "x_train = x_train.astype('float32')/255\n",
        "x_test = x_test.astype('float32')/255"
      ],
      "execution_count": 91,
      "outputs": []
    },
    {
      "cell_type": "code",
      "metadata": {
        "colab": {
          "base_uri": "https://localhost:8080/"
        },
        "id": "5vBe6XcfOG5C",
        "outputId": "a3a376b8-f123-474d-ee0a-873bec5ec2ff"
      },
      "source": [
        "#Crie um modelo de rede neural profunda (DNN) que consiste em três camadas totalmente cone\n",
        "model = keras.Sequential([\n",
        "  layers.Dense(512, activation='relu', input_dim = 784),\n",
        "  layers.Dense(256, activation='relu'),\n",
        "  layers.Dense(124, activation='relu'),\n",
        "  layers.Dense(num_classes, activation='softmax')])\n",
        "model.summary()"
      ],
      "execution_count": 92,
      "outputs": [
        {
          "output_type": "stream",
          "name": "stdout",
          "text": [
            "Model: \"sequential_9\"\n",
            "_________________________________________________________________\n",
            "Layer (type)                 Output Shape              Param #   \n",
            "=================================================================\n",
            "dense_20 (Dense)             (None, 512)               401920    \n",
            "_________________________________________________________________\n",
            "dense_21 (Dense)             (None, 256)               131328    \n",
            "_________________________________________________________________\n",
            "dense_22 (Dense)             (None, 124)               31868     \n",
            "_________________________________________________________________\n",
            "dense_23 (Dense)             (None, 10)                1250      \n",
            "=================================================================\n",
            "Total params: 566,366\n",
            "Trainable params: 566,366\n",
            "Non-trainable params: 0\n",
            "_________________________________________________________________\n"
          ]
        }
      ]
    },
    {
      "cell_type": "code",
      "metadata": {
        "id": "iXsNJn5IOSko"
      },
      "source": [
        "Optimizer = optimizers.Adam(0.001)\n",
        "model.compile(loss=keras.losses.categorical_crossentropy,\n",
        "optimizer=Optimizer,\n",
        "metrics=['accuracy'])"
      ],
      "execution_count": 93,
      "outputs": []
    },
    {
      "cell_type": "code",
      "metadata": {
        "colab": {
          "base_uri": "https://localhost:8080/"
        },
        "id": "KCn2jXwsOeV_",
        "outputId": "5b5f6663-8fb5-471b-8888-55319852fccb"
      },
      "source": [
        "#Ajuste os dados de treinamento ao modelo usando o método de ajuste.\n",
        "model.fit(x_train, y_train,\n",
        "batch_size=128,\n",
        "epochs=10,\n",
        "verbose=1)"
      ],
      "execution_count": 94,
      "outputs": [
        {
          "output_type": "stream",
          "name": "stdout",
          "text": [
            "Epoch 1/10\n",
            "469/469 [==============================] - 6s 12ms/step - loss: 0.2298 - accuracy: 0.9319\n",
            "Epoch 2/10\n",
            "469/469 [==============================] - 5s 12ms/step - loss: 0.0860 - accuracy: 0.9733\n",
            "Epoch 3/10\n",
            "469/469 [==============================] - 6s 12ms/step - loss: 0.0577 - accuracy: 0.9814\n",
            "Epoch 4/10\n",
            "469/469 [==============================] - 5s 12ms/step - loss: 0.0414 - accuracy: 0.9866\n",
            "Epoch 5/10\n",
            "469/469 [==============================] - 6s 12ms/step - loss: 0.0320 - accuracy: 0.9895\n",
            "Epoch 6/10\n",
            "469/469 [==============================] - 6s 12ms/step - loss: 0.0249 - accuracy: 0.9916\n",
            "Epoch 7/10\n",
            "469/469 [==============================] - 5s 12ms/step - loss: 0.0232 - accuracy: 0.9926\n",
            "Epoch 8/10\n",
            "469/469 [==============================] - 6s 12ms/step - loss: 0.0193 - accuracy: 0.9934\n",
            "Epoch 9/10\n",
            "469/469 [==============================] - 5s 12ms/step - loss: 0.0170 - accuracy: 0.9945\n",
            "Epoch 10/10\n",
            "469/469 [==============================] - 6s 12ms/step - loss: 0.0177 - accuracy: 0.9942\n"
          ]
        },
        {
          "output_type": "execute_result",
          "data": {
            "text/plain": [
              "<keras.callbacks.History at 0x7fe8c8c95490>"
            ]
          },
          "metadata": {},
          "execution_count": 94
        }
      ]
    },
    {
      "cell_type": "code",
      "metadata": {
        "colab": {
          "base_uri": "https://localhost:8080/"
        },
        "id": "UhMdJztTO0Rd",
        "outputId": "03811496-88e2-4b8d-dfba-57171e2913da"
      },
      "source": [
        "score = model.evaluate(x_test, y_test, verbose=0)\n",
        "print('Test loss:', score[0])\n",
        "print('Test accuracy:', score[1])"
      ],
      "execution_count": 95,
      "outputs": [
        {
          "output_type": "stream",
          "name": "stdout",
          "text": [
            "Test loss: 0.07648326456546783\n",
            "Test accuracy: 0.9812999963760376\n"
          ]
        }
      ]
    },
    {
      "cell_type": "code",
      "metadata": {
        "id": "a0eviO70O4G6"
      },
      "source": [
        "model.save('./model/final_DNN_model.h5')"
      ],
      "execution_count": 96,
      "outputs": []
    },
    {
      "cell_type": "code",
      "metadata": {
        "colab": {
          "base_uri": "https://localhost:8080/"
        },
        "id": "CGnDEXXiajox",
        "outputId": "7f7706d3-85f1-4dd8-c6bc-d251a05cc49b"
      },
      "source": [
        "import tensorflow as tf\n",
        "from tensorflow import keras\n",
        "import numpy as np\n",
        "model=keras.Sequential() #Crie a sequência da rede.\n",
        "## Adicione a primeira camada convolucional e camada de pooling.\n",
        "model.add(keras.layers.Conv2D(filters=32,kernel_size = 5,strides = (1,1),padding = 'same',activation = tf.nn.relu,input_shape = (28,28,1)))\n",
        "model.add(keras.layers.MaxPool2D(pool_size=(2,2), strides = (2,2), padding = 'valid'))\n",
        "\n",
        "## Adicione a segunda camada convolucional e camada de pooling.\n",
        "model.add(keras.layers.Conv2D(filters=64,kernel_size = 3,strides = (1,1),padding = 'same',activation =tf.nn.relu))\n",
        "model.add(keras.layers.MaxPool2D(pool_size=(2,2), strides = (2,2), padding = 'valid'))\n",
        "## Adicione uma camada de eliminação para reduzir o sobreajuste.\n",
        "model.add(keras.layers.Dropout(0.25))\n",
        "model.add(keras.layers.Flatten())\n",
        "## Adicione duas camadas totalmente conectadas.\n",
        "model.add(keras.layers.Dense(units=128,activation = tf.nn.relu))\n",
        "model.add(keras.layers.Dropout(0.5))\n",
        "model.add(keras.layers.Dense(units=10,activation = tf.nn.softmax))\n",
        "model.summary()"
      ],
      "execution_count": 97,
      "outputs": [
        {
          "output_type": "stream",
          "name": "stdout",
          "text": [
            "Model: \"sequential_10\"\n",
            "_________________________________________________________________\n",
            "Layer (type)                 Output Shape              Param #   \n",
            "=================================================================\n",
            "conv2d_10 (Conv2D)           (None, 28, 28, 32)        832       \n",
            "_________________________________________________________________\n",
            "max_pooling2d_8 (MaxPooling2 (None, 14, 14, 32)        0         \n",
            "_________________________________________________________________\n",
            "conv2d_11 (Conv2D)           (None, 14, 14, 64)        18496     \n",
            "_________________________________________________________________\n",
            "max_pooling2d_9 (MaxPooling2 (None, 7, 7, 64)          0         \n",
            "_________________________________________________________________\n",
            "dropout_8 (Dropout)          (None, 7, 7, 64)          0         \n",
            "_________________________________________________________________\n",
            "flatten_4 (Flatten)          (None, 3136)              0         \n",
            "_________________________________________________________________\n",
            "dense_24 (Dense)             (None, 128)               401536    \n",
            "_________________________________________________________________\n",
            "dropout_9 (Dropout)          (None, 128)               0         \n",
            "_________________________________________________________________\n",
            "dense_25 (Dense)             (None, 10)                1290      \n",
            "=================================================================\n",
            "Total params: 422,154\n",
            "Trainable params: 422,154\n",
            "Non-trainable params: 0\n",
            "_________________________________________________________________\n"
          ]
        }
      ]
    },
    {
      "cell_type": "code",
      "metadata": {
        "colab": {
          "base_uri": "https://localhost:8080/"
        },
        "id": "hMPyy0WnmCL_",
        "outputId": "e4e13ea8-3cc7-44d7-8617-96eadbc9aa65"
      },
      "source": [
        "# Expanda as dimensões dos dados para se adaptar ao modelo CNN.\n",
        "X_train=x_train.reshape(60000,28,28,1)\n",
        "X_test=x_test.reshape(10000,28,28,1)\n",
        "model.compile(optimizer=\"adam\",loss=\"categorical_crossentropy\",metrics=['accuracy'])\n",
        "model.fit(x=X_train,y=y_train,epochs=5,batch_size=128)"
      ],
      "execution_count": 98,
      "outputs": [
        {
          "output_type": "stream",
          "name": "stdout",
          "text": [
            "Epoch 1/5\n",
            "469/469 [==============================] - 75s 158ms/step - loss: 0.2763 - accuracy: 0.9135\n",
            "Epoch 2/5\n",
            "469/469 [==============================] - 74s 157ms/step - loss: 0.0931 - accuracy: 0.9712\n",
            "Epoch 3/5\n",
            "469/469 [==============================] - 73s 155ms/step - loss: 0.0704 - accuracy: 0.9794\n",
            "Epoch 4/5\n",
            "469/469 [==============================] - 74s 157ms/step - loss: 0.0579 - accuracy: 0.9821\n",
            "Epoch 5/5\n",
            "469/469 [==============================] - 72s 154ms/step - loss: 0.0529 - accuracy: 0.9840\n"
          ]
        },
        {
          "output_type": "execute_result",
          "data": {
            "text/plain": [
              "<keras.callbacks.History at 0x7fe8c8683b90>"
            ]
          },
          "metadata": {},
          "execution_count": 98
        }
      ]
    },
    {
      "cell_type": "code",
      "metadata": {
        "colab": {
          "base_uri": "https://localhost:8080/"
        },
        "id": "EmBjOkaKo_Ku",
        "outputId": "0e8f1e93-0961-4a62-94f6-88354b5f8d87"
      },
      "source": [
        "test_loss,test_acc=model.evaluate(x=X_test,y=y_test)\n",
        "print(\"Test Accuracy %.2f\"%test_acc)"
      ],
      "execution_count": 99,
      "outputs": [
        {
          "output_type": "stream",
          "name": "stdout",
          "text": [
            "313/313 [==============================] - 4s 14ms/step - loss: 0.0282 - accuracy: 0.9903\n",
            "Test Accuracy 0.99\n"
          ]
        }
      ]
    },
    {
      "cell_type": "code",
      "metadata": {
        "id": "qivmelm_pDyY"
      },
      "source": [
        "model.save('./model/final_CNN_model.h5')"
      ],
      "execution_count": 100,
      "outputs": []
    },
    {
      "cell_type": "code",
      "metadata": {
        "colab": {
          "base_uri": "https://localhost:8080/"
        },
        "id": "XmAEvla-pH62",
        "outputId": "f1ea4799-6593-4848-bb4a-a5a88637f265"
      },
      "source": [
        "from tensorflow.keras.models import load_model\n",
        "new_model = load_model('./model/final_CNN_model.h5')\n",
        "new_model.summary()"
      ],
      "execution_count": 101,
      "outputs": [
        {
          "output_type": "stream",
          "name": "stdout",
          "text": [
            "Model: \"sequential_10\"\n",
            "_________________________________________________________________\n",
            "Layer (type)                 Output Shape              Param #   \n",
            "=================================================================\n",
            "conv2d_10 (Conv2D)           (None, 28, 28, 32)        832       \n",
            "_________________________________________________________________\n",
            "max_pooling2d_8 (MaxPooling2 (None, 14, 14, 32)        0         \n",
            "_________________________________________________________________\n",
            "conv2d_11 (Conv2D)           (None, 14, 14, 64)        18496     \n",
            "_________________________________________________________________\n",
            "max_pooling2d_9 (MaxPooling2 (None, 7, 7, 64)          0         \n",
            "_________________________________________________________________\n",
            "dropout_8 (Dropout)          (None, 7, 7, 64)          0         \n",
            "_________________________________________________________________\n",
            "flatten_4 (Flatten)          (None, 3136)              0         \n",
            "_________________________________________________________________\n",
            "dense_24 (Dense)             (None, 128)               401536    \n",
            "_________________________________________________________________\n",
            "dropout_9 (Dropout)          (None, 128)               0         \n",
            "_________________________________________________________________\n",
            "dense_25 (Dense)             (None, 10)                1290      \n",
            "=================================================================\n",
            "Total params: 422,154\n",
            "Trainable params: 422,154\n",
            "Non-trainable params: 0\n",
            "_________________________________________________________________\n"
          ]
        }
      ]
    },
    {
      "cell_type": "code",
      "metadata": {
        "colab": {
          "base_uri": "https://localhost:8080/",
          "height": 711
        },
        "id": "x-yTAzvOpPMv",
        "outputId": "4fff541c-d294-4d24-a07a-e5897a7b4788"
      },
      "source": [
        "#Visualize os resultados de saída do conjunto de testes.\n",
        "import matplotlib.pyplot as plt\n",
        "%matplotlib inline\n",
        "def res_Visual(n):\n",
        "  #final_opt_a=new_model.predict_classes(X_test[0:n])#Faça previsões no conjunto de test\n",
        "  final_opt_a=np.argmax(new_model.predict(X_test[0:n]), axis=-1)#Faça previsões no conju\n",
        "  print(final_opt_a)\n",
        "  fig, ax = plt.subplots(nrows=int(n/5),ncols=5 )\n",
        "  ax = ax.flatten()\n",
        "  print('resultados de previsão das primeiras {} imagens:'.format(n))\n",
        "  for i in range(n):\n",
        "    print(final_opt_a[i],end=',')\n",
        "    if int((i+1)%5) ==0:\n",
        "      print('\\t')\n",
        "      #Visualize a exibição da imagem.\n",
        "      img = X_test[i].reshape((28,28))#Leia cada linha de dados no formato da matriz (im\n",
        "      plt.axis(\"off\")\n",
        "      ax[i].imshow(img, cmap='Greys', interpolation='nearest')#Visualização\n",
        "      ax[i].axis(\"off\")\n",
        "    print('primeiras {} imagens no conjunto de teste:'.format(n))\n",
        "res_Visual(20)"
      ],
      "execution_count": 103,
      "outputs": [
        {
          "output_type": "stream",
          "name": "stdout",
          "text": [
            "[7 2 1 0 4 1 4 9 5 9 0 6 9 0 1 5 9 7 3 4]\n",
            "resultados de previsão das primeiras 20 imagens:\n",
            "7,primeiras 20 imagens no conjunto de teste:\n",
            "2,primeiras 20 imagens no conjunto de teste:\n",
            "1,primeiras 20 imagens no conjunto de teste:\n",
            "0,primeiras 20 imagens no conjunto de teste:\n",
            "4,\t\n",
            "primeiras 20 imagens no conjunto de teste:\n",
            "1,primeiras 20 imagens no conjunto de teste:\n",
            "4,primeiras 20 imagens no conjunto de teste:\n",
            "9,primeiras 20 imagens no conjunto de teste:\n",
            "5,primeiras 20 imagens no conjunto de teste:\n",
            "9,\t\n",
            "primeiras 20 imagens no conjunto de teste:\n",
            "0,primeiras 20 imagens no conjunto de teste:\n",
            "6,primeiras 20 imagens no conjunto de teste:\n",
            "9,primeiras 20 imagens no conjunto de teste:\n",
            "0,primeiras 20 imagens no conjunto de teste:\n",
            "1,\t\n",
            "primeiras 20 imagens no conjunto de teste:\n",
            "5,primeiras 20 imagens no conjunto de teste:\n",
            "9,primeiras 20 imagens no conjunto de teste:\n",
            "7,primeiras 20 imagens no conjunto de teste:\n",
            "3,primeiras 20 imagens no conjunto de teste:\n",
            "4,\t\n",
            "primeiras 20 imagens no conjunto de teste:\n"
          ]
        },
        {
          "output_type": "display_data",
          "data": {
            "image/png": "[encoded data removed]",
            "text/plain": [
              "<Figure size 432x288 with 20 Axes>"
            ]
          },
          "metadata": {
            "needs_background": "light"
          }
        }
      ]
    }
  ]
}